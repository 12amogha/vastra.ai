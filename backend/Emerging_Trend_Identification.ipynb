{
 "cells": [
  {
   "cell_type": "code",
   "execution_count": 6,
   "metadata": {},
   "outputs": [],
   "source": [
    "import pandas as pd\n",
    "from sklearn.model_selection import train_test_split, GridSearchCV\n",
    "from sklearn.preprocessing import StandardScaler, OneHotEncoder\n",
    "from sklearn.compose import ColumnTransformer\n",
    "from sklearn.pipeline import Pipeline\n",
    "from sklearn.ensemble import RandomForestRegressor\n",
    "from sklearn.metrics import mean_absolute_error, mean_squared_error, r2_score\n",
    "import joblib"
   ]
  },
  {
   "cell_type": "code",
   "execution_count": 7,
   "metadata": {},
   "outputs": [],
   "source": [
    "file_path = 'Emerging_Trend_Identification_Dataset.xlsx'\n",
    "data = pd.read_excel(file_path)"
   ]
  },
  {
   "cell_type": "code",
   "execution_count": 8,
   "metadata": {},
   "outputs": [],
   "source": [
    "input_columns = ['Year', 'Month', 'Geographic Location']\n",
    "target_columns = ['BrandName','Category','Individual_Category','Category_by_Gender','Sales Data (units)', 'PrimaryColor', 'Size', 'Age Range', \n",
    "                  'Material', 'Pattern', 'Style', 'Sub-Style']\n",
    "\n",
    "data = data.dropna(subset=input_columns + target_columns)\n",
    "\n",
    "X = data[input_columns]\n",
    "y = data[target_columns]\n",
    "\n",
    "categorical_features = ['Geographic Location']\n",
    "categorical_transformer = Pipeline(steps=[\n",
    "    ('onehot', OneHotEncoder(drop='first'))\n",
    "])\n",
    "\n",
    "preprocessor = ColumnTransformer(\n",
    "    transformers=[\n",
    "        ('cat', categorical_transformer, categorical_features)\n",
    "    ],\n",
    "    remainder='passthrough'\n",
    ")\n",
    "\n",
    "models = {}"
   ]
  },
  {
   "cell_type": "code",
   "execution_count": 9,
   "metadata": {},
   "outputs": [
    {
     "name": "stdout",
     "output_type": "stream",
     "text": [
      "Metrics for BrandName - MAE: 2.0371483704902293, MSE: 5.27623184868878, R2: 0.018058305381344897\n",
      "Metrics for Category - MAE: 0.8018726582657353, MSE: 0.8453521098910445, R2: -0.14908039008198615\n",
      "Metrics for Individual_Category - MAE: 1.731209395070313, MSE: 3.994628578071273, R2: -0.08176119462578901\n",
      "Metrics for Category_by_Gender - MAE: 0.715208118621606, MSE: 0.703726988432782, R2: -0.05627816374536154\n",
      "Metrics for Sales Data (units) - MAE: 24.0911097920026, MSE: 738.9252664995416, R2: 0.8521812640454145\n",
      "Metrics for PrimaryColor - MAE: 1.5170771385475554, MSE: 3.220858825915208, R2: 0.4975041485029361\n",
      "Metrics for Size - MAE: 1.2584128412798543, MSE: 1.8794706528322827, R2: -0.019613935513439706\n",
      "Metrics for Age Range - MAE: 0.5912799050205965, MSE: 0.5120259739661397, R2: -0.032115349097100454\n",
      "Metrics for Material - MAE: 1.016501216336381, MSE: 1.3735243247399946, R2: 0.05562517332111383\n",
      "Metrics for Pattern - MAE: 1.0101080729853862, MSE: 1.44602128897996, R2: -0.12100708270855587\n",
      "Metrics for Style - MAE: 1.9314064053795221, MSE: 4.716692843850981, R2: 0.19567313209735315\n",
      "Metrics for Sub-Style - MAE: 2.437403561953222, MSE: 7.419367854126013, R2: -0.06792175522623456\n"
     ]
    },
    {
     "data": {
      "text/plain": [
       "['preprocessor.pkl']"
      ]
     },
     "execution_count": 9,
     "metadata": {},
     "output_type": "execute_result"
    }
   ],
   "source": [
    "# Train a model for each target variable\n",
    "for target in target_columns:\n",
    "    y_target = y[target]\n",
    "\n",
    "    X_train, X_test, y_train, y_test = train_test_split(X, y_target, test_size=0.2, random_state=45)\n",
    "\n",
    "    # Define model pipeline\n",
    "    pipeline = Pipeline(steps=[\n",
    "        ('preprocessor', preprocessor),\n",
    "        ('scaler', StandardScaler(with_mean=False)),\n",
    "        ('model', RandomForestRegressor(random_state=43))\n",
    "    ])\n",
    "\n",
    "    # Define hyperparameter grid\n",
    "    param_grid = {\n",
    "        'model__n_estimators': [150, 200, 300],\n",
    "        'model__max_depth': [None, 10, 20, 30],\n",
    "        'model__min_samples_split': [2, 5, 10],\n",
    "        'model__min_samples_leaf': [1, 2, 4],\n",
    "        'model__max_features': ['sqrt', 'log2', 0.5, 0.7, 0.9] \n",
    "    }\n",
    "\n",
    "    # Perform grid search\n",
    "    grid_search = GridSearchCV(pipeline, param_grid, cv=5, scoring='neg_mean_squared_error', n_jobs=-1, error_score='raise')\n",
    "    try:\n",
    "        grid_search.fit(X_train, y_train)\n",
    "        best_pipeline = grid_search.best_estimator_\n",
    "\n",
    "        # Predict and evaluate\n",
    "        y_pred = best_pipeline.predict(X_test)\n",
    "        mae = mean_absolute_error(y_test, y_pred)\n",
    "        mse = mean_squared_error(y_test, y_pred)\n",
    "        r2 = r2_score(y_test, y_pred)\n",
    "\n",
    "        # Store the model\n",
    "        models[target] = best_pipeline\n",
    "\n",
    "        print(f\"Metrics for {target} - MAE: {mae}, MSE: {mse}, R2: {r2}\")\n",
    "\n",
    "    except Exception as e:\n",
    "        print(f\"Failed to fit model for {target}: {e}\")\n",
    "\n",
    "# Save models and preprocessing pipeline\n",
    "joblib.dump(models, 'fashion_trend_models.pkl')\n",
    "joblib.dump(preprocessor, 'preprocessor.pkl')"
   ]
  },
  {
   "cell_type": "code",
   "execution_count": 17,
   "metadata": {},
   "outputs": [
    {
     "name": "stdout",
     "output_type": "stream",
     "text": [
      "Mapped Predictions: {'BrandName': 'Gucci', 'Category': 'Footwear', 'Individual_Category': 'Boots', 'Category_by_Gender': 'Men', 'Sales Data (units)': 161, 'PrimaryColor': 'White', 'Size': 'L', 'Age Range': '25-34', 'Material': 'Denim', 'Pattern': 'Printed', 'Style': 'Minimalist Fashion', 'Sub-Style': 'Loose Fit'}\n"
     ]
    }
   ],
   "source": [
    "import pandas as pd\n",
    "import numpy as np\n",
    "import joblib\n",
    "\n",
    "# Load the trained models\n",
    "loaded_models = joblib.load('fashion_trend_models.pkl')\n",
    "\n",
    "# Define new data for prediction\n",
    "new_data = pd.DataFrame({\n",
    "    'Year': [2024],\n",
    "    'Month': [1],\n",
    "    'Geographic Location': [1]\n",
    "})\n",
    "\n",
    "# Ensure all expected columns are present in new_data\n",
    "all_columns = ['Year', 'Month', 'Geographic Location']\n",
    "for col in all_columns:\n",
    "    if col not in new_data.columns:\n",
    "        new_data[col] = 0\n",
    "\n",
    "new_data = new_data[all_columns]\n",
    "\n",
    "# Make predictions for each target using loaded models\n",
    "predictions = {}\n",
    "for target, pipeline in loaded_models.items():\n",
    "    prediction = pipeline.predict(new_data)[0]\n",
    "    predictions[target] = prediction\n",
    "\n",
    "# Define mappings for categorical variables\n",
    "mappings = {\n",
    "    'BrandName': {1: 'Allen Solly', 2: 'Levi\\'s', 3: 'Adidas', 4: 'Gucci', 5: 'H&M', 6: 'Puma', 7: 'Nike', 8: 'Zara'},\n",
    "    'Category': {1: 'Clothing', 2: 'Footwear', 3: 'Accessories'},\n",
    "    'Individual_Category': {1: 'Jackets', 2: 'T-Shirts', 3: 'Boots', 4: 'Sweaters', 5: 'Hats', 6: 'Sweatshirts'},\n",
    "    'Category_by_Gender': {1: 'Women', 2: 'Men', 3: 'Unisex'},\n",
    "    'PrimaryColor': {1: 'Black', 2: 'White', 3: 'Blue', 4: 'Red', 5: 'Pink', 6: 'Yellow', 7: 'Green', 8: 'Purple', 9: 'Brown', 10: 'Orange'},\n",
    "    'Size': {1: 'XS', 2: 'S', 3: 'M', 4: 'L', 5: 'XL', 6: 'XXL'},\n",
    "    'Age Range': {1: '18-24', 2: '25-34', 3: '35-44'},\n",
    "    'Material': {1: 'Wool', 2: 'Cotton', 3: 'Denim', 4: 'Leather', 5: 'Polyester'},\n",
    "    'Pattern': {1: 'Solid', 2: 'Printed', 3: 'Floral', 4: 'Polka Dot', 5: 'Striped'},\n",
    "    'Search Trends': {1: 'High', 2: 'Medium', 3: 'Low'},\n",
    "    'Style': {1: 'Western Wear', 2: 'Casual Wear', 3: 'Sports and Active Wear', 4: 'Party Wear', 5: 'Minimalist Fashion', 6: 'Hiking', 7: 'Urban Fashion', 8: 'Streetwear'},\n",
    "    'Sub-Style': {1: 'Regular Fit', 2: 'Crew Neck', 3: 'Windbreaker', 4: 'Heeled', 5: 'Loose Fit', 6: 'Fedora', 7: 'Hooded', 8: 'Hiking', 9: 'Bomber'}\n",
    "}\n",
    "\n",
    "# Round numerical predictions and map categorical predictions\n",
    "rounded_predictions = {}\n",
    "for target, pred in predictions.items():\n",
    "    if target in mappings:\n",
    "        if isinstance(pred, np.float64):\n",
    "            pred = round(pred)  # Round numerical predictions\n",
    "        mapped_value = mappings[target].get(pred, f'Unknown ({pred})')\n",
    "        rounded_predictions[target] = mapped_value\n",
    "    else:\n",
    "        rounded_predictions[target] = pred  # No mapping needed for non-categorical targets\n",
    "\n",
    "# Update 'Sales Data (units)' prediction if needed\n",
    "if 'Sales Data (units)' in predictions:\n",
    "    sales_prediction = predictions['Sales Data (units)']\n",
    "    if isinstance(sales_prediction, np.float64):\n",
    "        rounded_sales_prediction = round(sales_prediction)  # Round to nearest integer\n",
    "        rounded_predictions['Sales Data (units)'] = rounded_sales_prediction\n",
    "    else:\n",
    "        rounded_predictions['Sales Data (units)'] = sales_prediction\n",
    "\n",
    "# Print or use predictions as needed\n",
    "print(\"Mapped Predictions:\", rounded_predictions)\n"
   ]
  }
 ],
 "metadata": {
  "kernelspec": {
   "display_name": "Python 3",
   "language": "python",
   "name": "python3"
  },
  "language_info": {
   "codemirror_mode": {
    "name": "ipython",
    "version": 3
   },
   "file_extension": ".py",
   "mimetype": "text/x-python",
   "name": "python",
   "nbconvert_exporter": "python",
   "pygments_lexer": "ipython3",
   "version": "3.12.3"
  }
 },
 "nbformat": 4,
 "nbformat_minor": 2
}
