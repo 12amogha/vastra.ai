{
 "cells": [
  {
   "cell_type": "code",
   "execution_count": 1,
   "metadata": {},
   "outputs": [
    {
     "data": {
      "text/plain": [
       "['influencer_recommender_function.pkl']"
      ]
     },
     "execution_count": 1,
     "metadata": {},
     "output_type": "execute_result"
    }
   ],
   "source": [
    "# Import necessary libraries\n",
    "import pandas as pd\n",
    "from sklearn.preprocessing import StandardScaler\n",
    "import joblib\n",
    "\n",
    "\n",
    "def preprocess_influencer_data(data):\n",
    "    numerical_features = ['followers', 'engagement_metrics', 'follower_growth_rate']\n",
    "    scaler = StandardScaler()\n",
    "    data[numerical_features] = scaler.fit_transform(data[numerical_features])\n",
    "    return data, scaler\n",
    "\n",
    "# Load influencer data\n",
    "influencer_data = pd.read_csv('influencer_data.csv')\n",
    "\n",
    "# Preprocess influencer data\n",
    "influencer_data, scaler = preprocess_influencer_data(influencer_data)\n",
    "\n",
    "# Save processed influencer data and scaler\n",
    "joblib.dump(influencer_data, 'influencer_data_processed.pkl')\n",
    "joblib.dump(scaler, 'influencer_data_scaler.pkl')\n",
    "\n",
    "def calculate_match_score(row, trend_params):\n",
    "    match_score = 0\n",
    "    for key, value in trend_params.items():\n",
    "        if key in row and row[key] == value:\n",
    "            match_score += 1\n",
    "    return match_score\n",
    "\n",
    "def get_top_influencers(influencer_data, predictions, scaler, top_n=5):\n",
    "    numerical_features = ['followers', 'engagement_metrics', 'follower_growth_rate']\n",
    "    influencer_data[numerical_features] = scaler.inverse_transform(influencer_data[numerical_features])\n",
    "\n",
    "    influencer_data['match_score'] = influencer_data.apply(lambda row: calculate_match_score(row, predictions), axis=1)\n",
    "\n",
    "    score_weights = {\n",
    "        'impact_score': 0.70,\n",
    "        'brand_fit_score': 0.30\n",
    "    }\n",
    "\n",
    "    influencer_data['final_score'] = (\n",
    "        influencer_data['match_score'] +\n",
    "        score_weights['impact_score'] * influencer_data['impact_score'] +\n",
    "        score_weights['brand_fit_score'] * influencer_data['brand_fit_score']\n",
    "    )\n",
    "\n",
    "    top_influencers = influencer_data.sort_values(by='final_score', ascending=False).head(top_n)\n",
    "    \n",
    "    output_columns = ['influencer_id', 'gender', 'platform', 'link', 'followers', 'public_perception', \n",
    "                      'engagement_metrics', 'follower_locations', 'follower_growth_rate', 'style', \n",
    "                      'past_collab', 'age_range', 'impact_score', 'brand_fit_score', 'final_score']\n",
    "    \n",
    "    return top_influencers[output_columns]\n",
    "\n",
    "# Save recommendation function\n",
    "joblib.dump(get_top_influencers, 'influencer_recommender_function.pkl')"
   ]
  }
 ],
 "metadata": {
  "kernelspec": {
   "display_name": "Python 3",
   "language": "python",
   "name": "python3"
  },
  "language_info": {
   "codemirror_mode": {
    "name": "ipython",
    "version": 3
   },
   "file_extension": ".py",
   "mimetype": "text/x-python",
   "name": "python",
   "nbconvert_exporter": "python",
   "pygments_lexer": "ipython3",
   "version": "3.12.3"
  }
 },
 "nbformat": 4,
 "nbformat_minor": 2
}
